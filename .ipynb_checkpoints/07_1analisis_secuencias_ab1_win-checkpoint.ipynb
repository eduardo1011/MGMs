{
 "cells": [
  {
   "cell_type": "markdown",
   "metadata": {},
   "source": [
    "# Bitacora para analizar archivos ab1\n",
    "tomado de \n",
    "http://biopython.org/wiki/ABI_traces"
   ]
  },
  {
   "cell_type": "code",
   "execution_count": 5,
   "metadata": {
    "collapsed": true
   },
   "outputs": [],
   "source": [
    "from Bio import SeqIO, SeqRecord\n",
    "from Bio.Alphabet import IUPAC #IUPAC nomemclatura para definir los nucleotidos y definir si es dna o proteina"
   ]
  },
  {
   "cell_type": "code",
   "execution_count": 6,
   "metadata": {
    "collapsed": true
   },
   "outputs": [],
   "source": [
    "from abifpy import Trace #Trace utiliza los valores de phred es la probabilidad de que el nucleotido que da sea el correcto, \n",
    "                            #usando una significancia estadística de P>0.05 \n",
    "from collections import defaultdict\n",
    "import matplotlib.pyplot as plt #importando la biblioteca pyplot y por practicidad la renombramos plt"
   ]
  },
  {
   "cell_type": "code",
   "execution_count": 7,
   "metadata": {},
   "outputs": [
    {
     "name": "stdout",
     "output_type": "stream",
     "text": [
      " El volumen de la unidad C no tiene etiqueta.\n",
      " El número de serie del volumen es: B09C-5CE4\n",
      "\n",
      " Directorio de C:\\Users\\SALA GRAL\\Desktop\\bioinformatica_aplicada\\data\\ab1\n",
      "\n",
      "14/12/2017  11:42 a. m.    <DIR>          .\n",
      "14/12/2017  11:42 a. m.    <DIR>          ..\n",
      "27/08/2014  10:55 a. m.           185,080 Nav1.2_(B9)-DG7A_E12_010.ab1\n",
      "27/08/2014  10:37 a. m.           184,346 Nav1.2_(D10)-RW01_F03_011.ab1\n",
      "27/08/2014  10:55 a. m.           184,570 Nav1.8_(B11)-DG7A_G12_014.ab1\n",
      "27/08/2014  10:37 a. m.           185,174 Nav1.8_(D12)-RW01_H03_015.ab1\n",
      "27/08/2014  10:55 a. m.           184,581 Nav2.2_(B10)-DG7A_F12_012.ab1\n",
      "27/08/2014  10:37 a. m.           186,928 Nav2.2_(D11)-RW01_G03_013.ab1\n",
      "27/08/2014  10:52 a. m.           212,099 PET1.2_(A1)-DG7A_A10_002.ab1\n",
      "27/08/2014  10:58 a. m.           184,666 PET1.2_(C2)-RW01_B01_003.ab1\n",
      "27/08/2014  10:55 a. m.           184,420 PET1.8_(A12)-DG7A_D11_007.ab1\n",
      "27/08/2014  10:58 a. m.           184,578 PET1.8_(D1)-RW01_E02_010.ab1\n",
      "27/08/2014  10:52 a. m.           212,255 PET2.2_(A2)-DG7A_B10_004.ab1\n",
      "27/08/2014  10:58 a. m.           184,745 PET2.2_(C3)-RW01_C01_005.ab1\n",
      "27/08/2014  10:55 a. m.           184,838 PET2.8_(B1)-DG7A_E11_009.ab1\n",
      "27/08/2014  10:58 a. m.           184,853 PET2.8_(D2)-RW01_F02_012.ab1\n",
      "27/08/2014  10:52 a. m.           212,206 PETsn1.2_(A3)-DG7A_C10_006.ab1\n",
      "27/08/2014  10:58 a. m.           184,707 PETsn1.2_(C4)-RW01_D01_007.ab1\n",
      "27/08/2014  10:55 a. m.           185,018 PETsn1.8_(B2)-DG7A_F11_011.ab1\n",
      "27/08/2014  10:58 a. m.           187,081 PETsn1.8_(D3)-RW01_G02_014.ab1\n",
      "27/08/2014  10:52 a. m.           208,401 PHBb1.2_(A8)-DG7A_H10_016.ab1\n",
      "27/08/2014  10:58 a. m.           182,902 PHBb1.2_(C9)-RW01_A02_002.ab1\n",
      "              20 archivos      3,803,448 bytes\n",
      "               2 dirs   6,815,506,432 bytes libres\n"
     ]
    }
   ],
   "source": [
    "ls \"/Users/SALA GRAL/Desktop/bioinformatica_aplicada/data/ab1/\""
   ]
  },
  {
   "cell_type": "code",
   "execution_count": 8,
   "metadata": {},
   "outputs": [
    {
     "name": "stdout",
     "output_type": "stream",
     "text": [
      "C:\\Users\\SALA GRAL\\Desktop\\bioinformatica_aplicada\\data\\ab1\n"
     ]
    }
   ],
   "source": [
    "cd /Users/SALA GRAL/Desktop/bioinformatica_aplicada/data/ab1/"
   ]
  },
  {
   "cell_type": "markdown",
   "metadata": {},
   "source": [
    "# Obtencion de la secuencia eliminando valores de baja calidad \n",
    "# Trimming\n",
    "#### tomado de \n",
    "#### https://github.com/bow/abifpy"
   ]
  },
  {
   "cell_type": "code",
   "execution_count": 9,
   "metadata": {
    "collapsed": true
   },
   "outputs": [],
   "source": [
    "rec= Trace(\"Nav1.2_(B9)-DG7A_E12_010.ab1\")"
   ]
  },
  {
   "cell_type": "code",
   "execution_count": 10,
   "metadata": {
    "collapsed": true
   },
   "outputs": [],
   "source": [
    "rec1= Trace('Nav1.2_(B9)-DG7A_E12_010.ab1',  trimming=True)"
   ]
  },
  {
   "cell_type": "markdown",
   "metadata": {},
   "source": [
    "## Comparando las secuencias de manera visual"
   ]
  },
  {
   "cell_type": "code",
   "execution_count": 11,
   "metadata": {},
   "outputs": [
    {
     "name": "stdout",
     "output_type": "stream",
     "text": [
      "GTGCTTCGACTTCCCCCAATCATCTGTCCCACCTTCGGCGGCTGGCTCCATAAAGGTTACCTCACCGACTTCGGGTGTTACAAACTCTCGTGGTGTGACGGGCGGTGTGTACAAGGCCCGGGAACGTATTCACCGCGGCATGCTGATCCGCAATTACAACCGATTCCAGCTTCACGCATTCAAGTTGCAAACTGCAATCCGAACTGAAAACAGATTTGTGGAATTGGCTTAACCTCCCGGTTTCCCTGCCCTTTGTTCTGTCCATTGTACCACGTGTGTACCCCAGGTCATAAGGGGCATGATGATTTGACGTCATCCCCATTCCCTCCAGTAA \n",
      " CTTCCCCCAATCATCTGTCCCACCTTCGGCGGCTGGCTCCATAAAGGTTACCTCACCGACTTCGGGTGTTACAAACTCTCGTGGTGTGACGGGCGGTGTGTACAAGGCCCGGGAACGTATTCACCGCGGCATGCTGATCCGCAATTACAACCGATTCCAGCTTCACGCATTCAAGTTGCAAACTGCAATCCGAACTGAAAACAGATTTGTGGAATTGGCTTAACCTCCCGGTTTCCCTGCCCTTTGTTCTGTCCATTGTACCACGTGTGTACCCCAGGTCATAAGGGGCATGATGATTTGACGTCATC\n"
     ]
    }
   ],
   "source": [
    "print(rec.seq, \"\\n\", rec1.seq)"
   ]
  },
  {
   "cell_type": "markdown",
   "metadata": {},
   "source": [
    "## Observando los valores de calidad"
   ]
  },
  {
   "cell_type": "code",
   "execution_count": 12,
   "metadata": {},
   "outputs": [
    {
     "data": {
      "text/plain": [
       "\"'&&&&(*%)/26.*-E-.::-+925:3A;7;DK393,3??HE7G?9ELL3CRT5LOL232@<A;93-<9CC@CC89H9<@L9C89?H33+,C.4C38?9CL?8<4,<6<2?<BLOYIRC88.>8?49@C<;3C?343493CF.3399IC.3-<66?9+>)3.??<C8H38J?:33434+4?3L.=C?98<L;3C44J8=:=O@38???OCL;.G??@<8C8.C94C09=3@3F?4=+34=<RCC.<<?LI?8C@?4983<3H3-C@?-2-=9.3383949.G?.1-93834C6=F433./49..9-983?3+4903@<.*&&&),)+6)()+1,\""
      ]
     },
     "execution_count": 12,
     "metadata": {},
     "output_type": "execute_result"
    }
   ],
   "source": [
    "rec.qual"
   ]
  },
  {
   "cell_type": "code",
   "execution_count": 13,
   "metadata": {},
   "outputs": [
    {
     "data": {
      "text/plain": [
       "'/26.*-E-.::-+925:3A;7;DK393,3??HE7G?9ELL3CRT5LOL232@<A;93-<9CC@CC89H9<@L9C89?H33+,C.4C38?9CL?8<4,<6<2?<BLOYIRC88.>8?49@C<;3C?343493CF.3399IC.3-<66?9+>)3.??<C8H38J?:33434+4?3L.=C?98<L;3C44J8=:=O@38???OCL;.G??@<8C8.C94C09=3@3F?4=+34=<RCC.<<?LI?8C@?4983<3H3-C@?-2-=9.3383949.G?.1-93834C6=F433./49..9-983?3+4903@'"
      ]
     },
     "execution_count": 13,
     "metadata": {},
     "output_type": "execute_result"
    }
   ],
   "source": [
    "rec1.qual"
   ]
  },
  {
   "cell_type": "markdown",
   "metadata": {},
   "source": [
    "## cuántos nucleotidos eliminó el recorte (trimming)?"
   ]
  },
  {
   "cell_type": "code",
   "execution_count": 14,
   "metadata": {},
   "outputs": [
    {
     "name": "stdout",
     "output_type": "stream",
     "text": [
      "334 308\n"
     ]
    }
   ],
   "source": [
    "print (len(rec.seq), len(rec1.seq)) #comando para obtener longitud y ver la diferencia"
   ]
  },
  {
   "cell_type": "markdown",
   "metadata": {},
   "source": [
    "## alineamiento de las secuencias para observar en donde se cortaron las secuencias"
   ]
  },
  {
   "cell_type": "code",
   "execution_count": null,
   "metadata": {
    "collapsed": true
   },
   "outputs": [],
   "source": [
    "from Bio import pairwise2 # pairwise2 funcion que nos permite hacer un alineamiento de dos secuencias\n",
    "from Bio.SubsMat.MatrixInfo import blosum62 # blosum62 contruye matrices"
   ]
  },
  {
   "cell_type": "markdown",
   "metadata": {},
   "source": [
    "Se estan observando los datos de las secuencias de la posicion 1 hasta la 94 (recuerde Python inicia a contar desde 0) y se observan los nucleotidos que se eliminaron en rec1"
   ]
  },
  {
   "cell_type": "code",
   "execution_count": null,
   "metadata": {
    "collapsed": true
   },
   "outputs": [],
   "source": [
    "alignments = pairwise2.align.globalds(rec.seq[:93],rec1.seq[:84], blosum62, -10, -0.5)\n",
    "print(pairwise2.format_alignment(*alignments[0]))"
   ]
  },
  {
   "cell_type": "markdown",
   "metadata": {},
   "source": [
    "Observando las secuencias completas"
   ]
  },
  {
   "cell_type": "code",
   "execution_count": null,
   "metadata": {
    "collapsed": true
   },
   "outputs": [],
   "source": [
    "alignments = pairwise2.align.globalds(rec.seq,rec1.seq, blosum62, -10, -0.5)\n",
    "print(pairwise2.format_alignment(*alignments[0]))"
   ]
  },
  {
   "cell_type": "markdown",
   "metadata": {},
   "source": [
    "Describa lo que observa"
   ]
  },
  {
   "cell_type": "code",
   "execution_count": null,
   "metadata": {
    "collapsed": true
   },
   "outputs": [],
   "source": []
  },
  {
   "cell_type": "code",
   "execution_count": null,
   "metadata": {
    "collapsed": true
   },
   "outputs": [],
   "source": [
    "alignments = pairwise2.align.globalds(rec.seq[len(rec.seq)-113:],rec1.seq[len(rec1.seq)-100:], blosum62, -10, -0.5)\n",
    "print(pairwise2.format_alignment(*alignments[0]))"
   ]
  },
  {
   "cell_type": "markdown",
   "metadata": {},
   "source": [
    "### qué se está observando en el último comando"
   ]
  },
  {
   "cell_type": "code",
   "execution_count": null,
   "metadata": {
    "collapsed": true
   },
   "outputs": [],
   "source": []
  },
  {
   "cell_type": "code",
   "execution_count": null,
   "metadata": {
    "collapsed": true
   },
   "outputs": [],
   "source": []
  },
  {
   "cell_type": "markdown",
   "metadata": {},
   "source": [
    "### en los siguientes comandos, describa (haga la anotación correspondiente) qué información que se está obteniendo"
   ]
  },
  {
   "cell_type": "code",
   "execution_count": null,
   "metadata": {
    "collapsed": true
   },
   "outputs": [],
   "source": [
    "rec1.id"
   ]
  },
  {
   "cell_type": "code",
   "execution_count": null,
   "metadata": {
    "collapsed": true
   },
   "outputs": [],
   "source": [
    "print(rec1.id, rec1.seq )"
   ]
  },
  {
   "cell_type": "markdown",
   "metadata": {},
   "source": [
    "## para reconstruir la secuencia y poder guardarla"
   ]
  },
  {
   "cell_type": "code",
   "execution_count": null,
   "metadata": {
    "collapsed": true
   },
   "outputs": [],
   "source": [
    "from Bio.Seq import Seq\n",
    "from Bio.SeqRecord import SeqRecord"
   ]
  },
  {
   "cell_type": "code",
   "execution_count": null,
   "metadata": {
    "collapsed": true
   },
   "outputs": [],
   "source": [
    "secuencia = SeqRecord(Seq((rec1.seq)), id=rec1.id, description=rec1.id)\n",
    "secuencia"
   ]
  },
  {
   "cell_type": "code",
   "execution_count": null,
   "metadata": {
    "collapsed": true
   },
   "outputs": [],
   "source": [
    "SeqIO.write(secuencia, \"../fasta/Nav1.2F.fa\", \"fasta\")\n"
   ]
  },
  {
   "cell_type": "code",
   "execution_count": null,
   "metadata": {
    "collapsed": true
   },
   "outputs": [],
   "source": [
    "!more \"../fasta/Nav1.2F.fa\""
   ]
  },
  {
   "cell_type": "markdown",
   "metadata": {},
   "source": [
    "### Se tienen 20 archivos que hay que procesar"
   ]
  },
  {
   "cell_type": "markdown",
   "metadata": {},
   "source": [
    "### se utilizan los comandos del sistema operativo para leer archivos de directorios"
   ]
  },
  {
   "cell_type": "code",
   "execution_count": null,
   "metadata": {
    "collapsed": true
   },
   "outputs": [],
   "source": [
    "import os#, sys"
   ]
  },
  {
   "cell_type": "code",
   "execution_count": null,
   "metadata": {
    "collapsed": true
   },
   "outputs": [],
   "source": [
    "pwd"
   ]
  },
  {
   "cell_type": "code",
   "execution_count": null,
   "metadata": {
    "collapsed": true
   },
   "outputs": [],
   "source": [
    "lista = os.listdir(path =\"./\")\n",
    "lista"
   ]
  },
  {
   "cell_type": "code",
   "execution_count": null,
   "metadata": {
    "collapsed": true
   },
   "outputs": [],
   "source": [
    "n=0\n",
    "for row in lista:\n",
    "    if row[:1]!=\".\":\n",
    "        n+=1\n",
    "        print (row)\n",
    "print (n, \"archivos que se procesarán para eliminar secciones de baja calidad\")\n"
   ]
  },
  {
   "cell_type": "markdown",
   "metadata": {},
   "source": [
    "# Ejercicio:\n",
    "### Utilizandola información de la presente bitácora haga un ciclo (loop) para recortar las secuencias eliminando las regiones de baja calidad\n",
    "### guarde los archivos de manera individual con extensión fasta"
   ]
  },
  {
   "cell_type": "code",
   "execution_count": null,
   "metadata": {
    "collapsed": true
   },
   "outputs": [],
   "source": [
    "n=0\n",
    "for row in lista:\n",
    "    if row[:1]==\".\":\n",
    "        continue\n",
    "    n+=1\n",
    "    print (row, end =\"\\t\")\n",
    "    rec1= Trace(row,  trimming=True)\n",
    "    secuencia = SeqRecord(Seq((rec1.seq)), id=rec1.id, description=rec1.id)\n",
    "    archivo= \"../fasta/\"+ row[:-4] +\".fasta\"\n",
    "    print (archivo)\n",
    "    SeqIO.write(secuencia, archivo, \"fasta\")\n",
    "print (n, \"archivos\")\n",
    "\n",
    "\n"
   ]
  },
  {
   "cell_type": "code",
   "execution_count": null,
   "metadata": {
    "collapsed": true
   },
   "outputs": [],
   "source": [
    "!more \"../fasta/Nav1.2F.fasta\""
   ]
  },
  {
   "cell_type": "markdown",
   "metadata": {},
   "source": [
    "## guarde todos los archivos en un solo archivo fasta"
   ]
  },
  {
   "cell_type": "code",
   "execution_count": null,
   "metadata": {
    "collapsed": true
   },
   "outputs": [],
   "source": [
    "secuencias= []\n",
    "n=0\n",
    "for row in lista:\n",
    "    if row[:1]==\".\":\n",
    "        continue\n",
    "        \n",
    "    n+=1\n",
    "    print (row)\n",
    "    rec1= Trace(row,  trimming=True)\n",
    "    secuencia = SeqRecord(Seq(rec1.seq,\n",
    "       IUPAC.unambiguous_dna), id=rec1.id[:rec1.id.find(\")\")], description=rec1.id)\n",
    "    secuencias.append(secuencia)\n",
    "archivo= \"../fasta/secuencias.fasta\"\n",
    "print (archivo)\n",
    "SeqIO.write(secuencias, archivo, \"fasta\")\n",
    "print (n, \"secuencias guardadas en un solo archivo\")\n",
    "#secuencias"
   ]
  },
  {
   "cell_type": "markdown",
   "metadata": {},
   "source": [
    "## corrobore el archivo secuencias.fasta"
   ]
  },
  {
   "cell_type": "code",
   "execution_count": null,
   "metadata": {
    "collapsed": true,
    "scrolled": false
   },
   "outputs": [],
   "source": [
    "!more \"../fasta/secuencias.fasta\""
   ]
  },
  {
   "cell_type": "markdown",
   "metadata": {},
   "source": [
    "## de qué manera podría cambiarle los nombres de descripción a las secuencias?"
   ]
  },
  {
   "cell_type": "markdown",
   "metadata": {},
   "source": [
    "## utilice el Mega y compare sus resultados"
   ]
  },
  {
   "cell_type": "markdown",
   "metadata": {},
   "source": [
    "## guarde el archivo en formato del GenBank"
   ]
  },
  {
   "cell_type": "raw",
   "metadata": {
    "collapsed": true
   },
   "source": [
    "mkdir \"../genbank\""
   ]
  },
  {
   "cell_type": "code",
   "execution_count": null,
   "metadata": {
    "collapsed": true
   },
   "outputs": [],
   "source": [
    "SeqIO.write(secuencias, \"../genbank/secuencias.gb\", \"genbank\")\n"
   ]
  },
  {
   "cell_type": "markdown",
   "metadata": {
    "collapsed": true
   },
   "source": [
    "### revise el archivo ../genbank/secuencias.gb, explique qué observa"
   ]
  },
  {
   "cell_type": "code",
   "execution_count": null,
   "metadata": {
    "collapsed": true,
    "scrolled": true
   },
   "outputs": [],
   "source": [
    "!more \"../genbank/secuencias.gb\""
   ]
  },
  {
   "cell_type": "code",
   "execution_count": null,
   "metadata": {
    "collapsed": true
   },
   "outputs": [],
   "source": []
  },
  {
   "cell_type": "code",
   "execution_count": null,
   "metadata": {
    "collapsed": true
   },
   "outputs": [],
   "source": []
  },
  {
   "cell_type": "markdown",
   "metadata": {},
   "source": [
    "## Graficado del electroferograma"
   ]
  },
  {
   "cell_type": "markdown",
   "metadata": {},
   "source": [
    "Seleccionar un archivo para leerlo"
   ]
  },
  {
   "cell_type": "code",
   "execution_count": null,
   "metadata": {
    "collapsed": true
   },
   "outputs": [],
   "source": [
    "record = SeqIO.read('Nav1.2_(B9)-DG7A_E12_010.ab1', 'abi')"
   ]
  },
  {
   "cell_type": "code",
   "execution_count": null,
   "metadata": {
    "collapsed": true
   },
   "outputs": [],
   "source": [
    "record.annotations.keys()\n",
    "record.annotations['abif_raw'].keys()\n",
    "channels = ['DATA9', 'DATA10', 'DATA11', 'DATA12']\n",
    "trace = defaultdict(list)"
   ]
  },
  {
   "cell_type": "markdown",
   "metadata": {},
   "source": [
    "## qué contiene la variable channels?"
   ]
  },
  {
   "cell_type": "code",
   "execution_count": null,
   "metadata": {
    "collapsed": true
   },
   "outputs": [],
   "source": []
  },
  {
   "cell_type": "code",
   "execution_count": null,
   "metadata": {
    "collapsed": true
   },
   "outputs": [],
   "source": []
  },
  {
   "cell_type": "code",
   "execution_count": null,
   "metadata": {
    "collapsed": true
   },
   "outputs": [],
   "source": [
    "for c in channels:\n",
    "    trace[c] = record.annotations['abif_raw'][c]"
   ]
  },
  {
   "cell_type": "code",
   "execution_count": null,
   "metadata": {
    "collapsed": true
   },
   "outputs": [],
   "source": [
    "plt.plot(trace['DATA9'], color='blue')\n",
    "plt.plot(trace['DATA10'], color='red')\n",
    "plt.plot(trace['DATA11'], color='green')\n",
    "plt.plot(trace['DATA12'], color='yellow')\n",
    "plt.show()"
   ]
  },
  {
   "cell_type": "markdown",
   "metadata": {},
   "source": [
    "### Describa qué hacen los siguientes comandos"
   ]
  },
  {
   "cell_type": "code",
   "execution_count": null,
   "metadata": {
    "collapsed": true
   },
   "outputs": [],
   "source": [
    "plt.figure(figsize=(16,4))\n",
    "plt.plot(trace['DATA9'], color='blue')\n",
    "plt.plot(trace['DATA10'], color='red')\n",
    "plt.plot(trace['DATA11'], color='green')\n",
    "plt.plot(trace['DATA12'], color='yellow')\n",
    "plt.xlim(0,1000)  # se utiliza valores de 1000 como maximo\n",
    "plt.show()"
   ]
  },
  {
   "cell_type": "code",
   "execution_count": null,
   "metadata": {
    "collapsed": true
   },
   "outputs": [],
   "source": [
    "plt.figure(figsize=(16,4))\n",
    "plt.plot(trace['DATA9'], color='blue')\n",
    "plt.plot(trace['DATA10'], color='red')\n",
    "plt.plot(trace['DATA11'], color='green')\n",
    "plt.plot(trace['DATA12'], color='yellow')\n",
    "plt.xlim(1000,2000)  # se utiliza valores de 1000 como maximo\n",
    "plt.show()"
   ]
  },
  {
   "cell_type": "code",
   "execution_count": null,
   "metadata": {
    "collapsed": true
   },
   "outputs": [],
   "source": [
    "def graficado(x1,x2):\n",
    "    plt.figure(figsize=(16,4))\n",
    "    plt.plot(trace['DATA9'], color='blue')\n",
    "    plt.plot(trace['DATA10'], color='red')\n",
    "    plt.plot(trace['DATA11'], color='green')\n",
    "    plt.plot(trace['DATA12'], color='yellow')\n",
    "    plt.xlim(x1,x2)  # se utiliza valores de 1000 como maximo\n",
    "    plt.show()"
   ]
  },
  {
   "cell_type": "code",
   "execution_count": null,
   "metadata": {
    "collapsed": true
   },
   "outputs": [],
   "source": [
    "graficado (2000,3000)"
   ]
  },
  {
   "cell_type": "code",
   "execution_count": null,
   "metadata": {
    "collapsed": true
   },
   "outputs": [],
   "source": [
    "intervalos = range(1000,6000,1000)\n",
    "intervalos"
   ]
  },
  {
   "cell_type": "code",
   "execution_count": null,
   "metadata": {
    "collapsed": true,
    "scrolled": false
   },
   "outputs": [],
   "source": [
    "for intervalo in intervalos:\n",
    "    graficado (intervalo-1000,intervalo)"
   ]
  },
  {
   "cell_type": "code",
   "execution_count": null,
   "metadata": {
    "collapsed": true
   },
   "outputs": [],
   "source": []
  },
  {
   "cell_type": "markdown",
   "metadata": {},
   "source": [
    "## Cómo se compara esta información con la observada con el MEGA?"
   ]
  },
  {
   "cell_type": "code",
   "execution_count": null,
   "metadata": {
    "collapsed": true
   },
   "outputs": [],
   "source": []
  }
 ],
 "metadata": {
  "kernelspec": {
   "display_name": "Python 3",
   "language": "python",
   "name": "python3"
  },
  "language_info": {
   "codemirror_mode": {
    "name": "ipython",
    "version": 3
   },
   "file_extension": ".py",
   "mimetype": "text/x-python",
   "name": "python",
   "nbconvert_exporter": "python",
   "pygments_lexer": "ipython3",
   "version": "3.6.3"
  }
 },
 "nbformat": 4,
 "nbformat_minor": 2
}
